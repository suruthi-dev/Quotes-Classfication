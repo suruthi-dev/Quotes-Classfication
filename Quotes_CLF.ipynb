{
  "nbformat": 4,
  "nbformat_minor": 0,
  "metadata": {
    "colab": {
      "provenance": [],
      "gpuType": "T4"
    },
    "kernelspec": {
      "name": "python3",
      "display_name": "Python 3"
    },
    "language_info": {
      "name": "python"
    },
    "accelerator": "GPU"
  },
  "cells": [
    {
      "cell_type": "code",
      "source": [
        "import pandas as pd\n",
        "import nltk\n",
        "from sklearn.model_selection import train_test_split\n",
        "import re"
      ],
      "metadata": {
        "id": "QzyZssZguuaX"
      },
      "execution_count": 46,
      "outputs": []
    },
    {
      "cell_type": "code",
      "source": [
        "df = pd.read_csv(\"/content/drive/MyDrive/motivational_vs_depression_quotes.csv\")"
      ],
      "metadata": {
        "id": "msaYzx6Ts0RS"
      },
      "execution_count": 14,
      "outputs": []
    },
    {
      "cell_type": "code",
      "source": [
        "df"
      ],
      "metadata": {
        "colab": {
          "base_uri": "https://localhost:8080/",
          "height": 423
        },
        "id": "14Oi10uas0UB",
        "outputId": "e2b4947c-ae78-4afb-d732-95501a7c1b64"
      },
      "execution_count": 15,
      "outputs": [
        {
          "output_type": "execute_result",
          "data": {
            "text/plain": [
              "                                                quotes  label\n",
              "0    Age is an issue of mind over matter. If you do...      1\n",
              "1    Anyone who stops learning is old, whether at t...      1\n",
              "2    Wrinkles should merely indicate where smiles h...      1\n",
              "3    True terror is to wake up one morning and disc...      1\n",
              "4    A diplomat is a man who always remembers a wom...      1\n",
              "..                                                 ...    ...\n",
              "554  Shakespeare himself never described this tortu...      0\n",
              "555  I had stopped composing; my mind seemed to bec...      0\n",
              "556                                     I did nothing.      0\n",
              "557                One power was left to me-to suffer.      0\n",
              "558                                                NaN      0\n",
              "\n",
              "[559 rows x 2 columns]"
            ],
            "text/html": [
              "\n",
              "\n",
              "  <div id=\"df-72977402-c92c-4051-8d52-de8251708132\">\n",
              "    <div class=\"colab-df-container\">\n",
              "      <div>\n",
              "<style scoped>\n",
              "    .dataframe tbody tr th:only-of-type {\n",
              "        vertical-align: middle;\n",
              "    }\n",
              "\n",
              "    .dataframe tbody tr th {\n",
              "        vertical-align: top;\n",
              "    }\n",
              "\n",
              "    .dataframe thead th {\n",
              "        text-align: right;\n",
              "    }\n",
              "</style>\n",
              "<table border=\"1\" class=\"dataframe\">\n",
              "  <thead>\n",
              "    <tr style=\"text-align: right;\">\n",
              "      <th></th>\n",
              "      <th>quotes</th>\n",
              "      <th>label</th>\n",
              "    </tr>\n",
              "  </thead>\n",
              "  <tbody>\n",
              "    <tr>\n",
              "      <th>0</th>\n",
              "      <td>Age is an issue of mind over matter. If you do...</td>\n",
              "      <td>1</td>\n",
              "    </tr>\n",
              "    <tr>\n",
              "      <th>1</th>\n",
              "      <td>Anyone who stops learning is old, whether at t...</td>\n",
              "      <td>1</td>\n",
              "    </tr>\n",
              "    <tr>\n",
              "      <th>2</th>\n",
              "      <td>Wrinkles should merely indicate where smiles h...</td>\n",
              "      <td>1</td>\n",
              "    </tr>\n",
              "    <tr>\n",
              "      <th>3</th>\n",
              "      <td>True terror is to wake up one morning and disc...</td>\n",
              "      <td>1</td>\n",
              "    </tr>\n",
              "    <tr>\n",
              "      <th>4</th>\n",
              "      <td>A diplomat is a man who always remembers a wom...</td>\n",
              "      <td>1</td>\n",
              "    </tr>\n",
              "    <tr>\n",
              "      <th>...</th>\n",
              "      <td>...</td>\n",
              "      <td>...</td>\n",
              "    </tr>\n",
              "    <tr>\n",
              "      <th>554</th>\n",
              "      <td>Shakespeare himself never described this tortu...</td>\n",
              "      <td>0</td>\n",
              "    </tr>\n",
              "    <tr>\n",
              "      <th>555</th>\n",
              "      <td>I had stopped composing; my mind seemed to bec...</td>\n",
              "      <td>0</td>\n",
              "    </tr>\n",
              "    <tr>\n",
              "      <th>556</th>\n",
              "      <td>I did nothing.</td>\n",
              "      <td>0</td>\n",
              "    </tr>\n",
              "    <tr>\n",
              "      <th>557</th>\n",
              "      <td>One power was left to me-to suffer.</td>\n",
              "      <td>0</td>\n",
              "    </tr>\n",
              "    <tr>\n",
              "      <th>558</th>\n",
              "      <td>NaN</td>\n",
              "      <td>0</td>\n",
              "    </tr>\n",
              "  </tbody>\n",
              "</table>\n",
              "<p>559 rows × 2 columns</p>\n",
              "</div>\n",
              "      <button class=\"colab-df-convert\" onclick=\"convertToInteractive('df-72977402-c92c-4051-8d52-de8251708132')\"\n",
              "              title=\"Convert this dataframe to an interactive table.\"\n",
              "              style=\"display:none;\">\n",
              "\n",
              "  <svg xmlns=\"http://www.w3.org/2000/svg\" height=\"24px\"viewBox=\"0 0 24 24\"\n",
              "       width=\"24px\">\n",
              "    <path d=\"M0 0h24v24H0V0z\" fill=\"none\"/>\n",
              "    <path d=\"M18.56 5.44l.94 2.06.94-2.06 2.06-.94-2.06-.94-.94-2.06-.94 2.06-2.06.94zm-11 1L8.5 8.5l.94-2.06 2.06-.94-2.06-.94L8.5 2.5l-.94 2.06-2.06.94zm10 10l.94 2.06.94-2.06 2.06-.94-2.06-.94-.94-2.06-.94 2.06-2.06.94z\"/><path d=\"M17.41 7.96l-1.37-1.37c-.4-.4-.92-.59-1.43-.59-.52 0-1.04.2-1.43.59L10.3 9.45l-7.72 7.72c-.78.78-.78 2.05 0 2.83L4 21.41c.39.39.9.59 1.41.59.51 0 1.02-.2 1.41-.59l7.78-7.78 2.81-2.81c.8-.78.8-2.07 0-2.86zM5.41 20L4 18.59l7.72-7.72 1.47 1.35L5.41 20z\"/>\n",
              "  </svg>\n",
              "      </button>\n",
              "\n",
              "\n",
              "\n",
              "    <div id=\"df-b87fef1b-6622-4239-9985-b1f7e4fc9990\">\n",
              "      <button class=\"colab-df-quickchart\" onclick=\"quickchart('df-b87fef1b-6622-4239-9985-b1f7e4fc9990')\"\n",
              "              title=\"Suggest charts.\"\n",
              "              style=\"display:none;\">\n",
              "\n",
              "<svg xmlns=\"http://www.w3.org/2000/svg\" height=\"24px\"viewBox=\"0 0 24 24\"\n",
              "     width=\"24px\">\n",
              "    <g>\n",
              "        <path d=\"M19 3H5c-1.1 0-2 .9-2 2v14c0 1.1.9 2 2 2h14c1.1 0 2-.9 2-2V5c0-1.1-.9-2-2-2zM9 17H7v-7h2v7zm4 0h-2V7h2v10zm4 0h-2v-4h2v4z\"/>\n",
              "    </g>\n",
              "</svg>\n",
              "      </button>\n",
              "    </div>\n",
              "\n",
              "<style>\n",
              "  .colab-df-quickchart {\n",
              "    background-color: #E8F0FE;\n",
              "    border: none;\n",
              "    border-radius: 50%;\n",
              "    cursor: pointer;\n",
              "    display: none;\n",
              "    fill: #1967D2;\n",
              "    height: 32px;\n",
              "    padding: 0 0 0 0;\n",
              "    width: 32px;\n",
              "  }\n",
              "\n",
              "  .colab-df-quickchart:hover {\n",
              "    background-color: #E2EBFA;\n",
              "    box-shadow: 0px 1px 2px rgba(60, 64, 67, 0.3), 0px 1px 3px 1px rgba(60, 64, 67, 0.15);\n",
              "    fill: #174EA6;\n",
              "  }\n",
              "\n",
              "  [theme=dark] .colab-df-quickchart {\n",
              "    background-color: #3B4455;\n",
              "    fill: #D2E3FC;\n",
              "  }\n",
              "\n",
              "  [theme=dark] .colab-df-quickchart:hover {\n",
              "    background-color: #434B5C;\n",
              "    box-shadow: 0px 1px 3px 1px rgba(0, 0, 0, 0.15);\n",
              "    filter: drop-shadow(0px 1px 2px rgba(0, 0, 0, 0.3));\n",
              "    fill: #FFFFFF;\n",
              "  }\n",
              "</style>\n",
              "\n",
              "    <script>\n",
              "      async function quickchart(key) {\n",
              "        const containerElement = document.querySelector('#' + key);\n",
              "        const charts = await google.colab.kernel.invokeFunction(\n",
              "            'suggestCharts', [key], {});\n",
              "      }\n",
              "    </script>\n",
              "\n",
              "      <script>\n",
              "\n",
              "function displayQuickchartButton(domScope) {\n",
              "  let quickchartButtonEl =\n",
              "    domScope.querySelector('#df-b87fef1b-6622-4239-9985-b1f7e4fc9990 button.colab-df-quickchart');\n",
              "  quickchartButtonEl.style.display =\n",
              "    google.colab.kernel.accessAllowed ? 'block' : 'none';\n",
              "}\n",
              "\n",
              "        displayQuickchartButton(document);\n",
              "      </script>\n",
              "      <style>\n",
              "    .colab-df-container {\n",
              "      display:flex;\n",
              "      flex-wrap:wrap;\n",
              "      gap: 12px;\n",
              "    }\n",
              "\n",
              "    .colab-df-convert {\n",
              "      background-color: #E8F0FE;\n",
              "      border: none;\n",
              "      border-radius: 50%;\n",
              "      cursor: pointer;\n",
              "      display: none;\n",
              "      fill: #1967D2;\n",
              "      height: 32px;\n",
              "      padding: 0 0 0 0;\n",
              "      width: 32px;\n",
              "    }\n",
              "\n",
              "    .colab-df-convert:hover {\n",
              "      background-color: #E2EBFA;\n",
              "      box-shadow: 0px 1px 2px rgba(60, 64, 67, 0.3), 0px 1px 3px 1px rgba(60, 64, 67, 0.15);\n",
              "      fill: #174EA6;\n",
              "    }\n",
              "\n",
              "    [theme=dark] .colab-df-convert {\n",
              "      background-color: #3B4455;\n",
              "      fill: #D2E3FC;\n",
              "    }\n",
              "\n",
              "    [theme=dark] .colab-df-convert:hover {\n",
              "      background-color: #434B5C;\n",
              "      box-shadow: 0px 1px 3px 1px rgba(0, 0, 0, 0.15);\n",
              "      filter: drop-shadow(0px 1px 2px rgba(0, 0, 0, 0.3));\n",
              "      fill: #FFFFFF;\n",
              "    }\n",
              "  </style>\n",
              "\n",
              "      <script>\n",
              "        const buttonEl =\n",
              "          document.querySelector('#df-72977402-c92c-4051-8d52-de8251708132 button.colab-df-convert');\n",
              "        buttonEl.style.display =\n",
              "          google.colab.kernel.accessAllowed ? 'block' : 'none';\n",
              "\n",
              "        async function convertToInteractive(key) {\n",
              "          const element = document.querySelector('#df-72977402-c92c-4051-8d52-de8251708132');\n",
              "          const dataTable =\n",
              "            await google.colab.kernel.invokeFunction('convertToInteractive',\n",
              "                                                     [key], {});\n",
              "          if (!dataTable) return;\n",
              "\n",
              "          const docLinkHtml = 'Like what you see? Visit the ' +\n",
              "            '<a target=\"_blank\" href=https://colab.research.google.com/notebooks/data_table.ipynb>data table notebook</a>'\n",
              "            + ' to learn more about interactive tables.';\n",
              "          element.innerHTML = '';\n",
              "          dataTable['output_type'] = 'display_data';\n",
              "          await google.colab.output.renderOutput(dataTable, element);\n",
              "          const docLink = document.createElement('div');\n",
              "          docLink.innerHTML = docLinkHtml;\n",
              "          element.appendChild(docLink);\n",
              "        }\n",
              "      </script>\n",
              "    </div>\n",
              "  </div>\n"
            ]
          },
          "metadata": {},
          "execution_count": 15
        }
      ]
    },
    {
      "cell_type": "code",
      "source": [
        "df.isna().sum()"
      ],
      "metadata": {
        "colab": {
          "base_uri": "https://localhost:8080/"
        },
        "id": "3skK2di9s0Xw",
        "outputId": "fa291b3a-9300-407d-d8a3-84b785888aa5"
      },
      "execution_count": 16,
      "outputs": [
        {
          "output_type": "execute_result",
          "data": {
            "text/plain": [
              "quotes    1\n",
              "label     0\n",
              "dtype: int64"
            ]
          },
          "metadata": {},
          "execution_count": 16
        }
      ]
    },
    {
      "cell_type": "code",
      "source": [
        "df = df.dropna()"
      ],
      "metadata": {
        "id": "Humxx60cs0Z7"
      },
      "execution_count": 17,
      "outputs": []
    },
    {
      "cell_type": "code",
      "source": [
        "df"
      ],
      "metadata": {
        "colab": {
          "base_uri": "https://localhost:8080/",
          "height": 423
        },
        "id": "ola3XBm9s0gT",
        "outputId": "9a957ca2-b075-4c69-e454-d8b2b01e842b"
      },
      "execution_count": 18,
      "outputs": [
        {
          "output_type": "execute_result",
          "data": {
            "text/plain": [
              "                                                quotes  label\n",
              "0    Age is an issue of mind over matter. If you do...      1\n",
              "1    Anyone who stops learning is old, whether at t...      1\n",
              "2    Wrinkles should merely indicate where smiles h...      1\n",
              "3    True terror is to wake up one morning and disc...      1\n",
              "4    A diplomat is a man who always remembers a wom...      1\n",
              "..                                                 ...    ...\n",
              "553  It is difficult to put into words what I suffe...      0\n",
              "554  Shakespeare himself never described this tortu...      0\n",
              "555  I had stopped composing; my mind seemed to bec...      0\n",
              "556                                     I did nothing.      0\n",
              "557                One power was left to me-to suffer.      0\n",
              "\n",
              "[558 rows x 2 columns]"
            ],
            "text/html": [
              "\n",
              "\n",
              "  <div id=\"df-439b54c8-4b7e-4dec-b782-c1c4d57f5672\">\n",
              "    <div class=\"colab-df-container\">\n",
              "      <div>\n",
              "<style scoped>\n",
              "    .dataframe tbody tr th:only-of-type {\n",
              "        vertical-align: middle;\n",
              "    }\n",
              "\n",
              "    .dataframe tbody tr th {\n",
              "        vertical-align: top;\n",
              "    }\n",
              "\n",
              "    .dataframe thead th {\n",
              "        text-align: right;\n",
              "    }\n",
              "</style>\n",
              "<table border=\"1\" class=\"dataframe\">\n",
              "  <thead>\n",
              "    <tr style=\"text-align: right;\">\n",
              "      <th></th>\n",
              "      <th>quotes</th>\n",
              "      <th>label</th>\n",
              "    </tr>\n",
              "  </thead>\n",
              "  <tbody>\n",
              "    <tr>\n",
              "      <th>0</th>\n",
              "      <td>Age is an issue of mind over matter. If you do...</td>\n",
              "      <td>1</td>\n",
              "    </tr>\n",
              "    <tr>\n",
              "      <th>1</th>\n",
              "      <td>Anyone who stops learning is old, whether at t...</td>\n",
              "      <td>1</td>\n",
              "    </tr>\n",
              "    <tr>\n",
              "      <th>2</th>\n",
              "      <td>Wrinkles should merely indicate where smiles h...</td>\n",
              "      <td>1</td>\n",
              "    </tr>\n",
              "    <tr>\n",
              "      <th>3</th>\n",
              "      <td>True terror is to wake up one morning and disc...</td>\n",
              "      <td>1</td>\n",
              "    </tr>\n",
              "    <tr>\n",
              "      <th>4</th>\n",
              "      <td>A diplomat is a man who always remembers a wom...</td>\n",
              "      <td>1</td>\n",
              "    </tr>\n",
              "    <tr>\n",
              "      <th>...</th>\n",
              "      <td>...</td>\n",
              "      <td>...</td>\n",
              "    </tr>\n",
              "    <tr>\n",
              "      <th>553</th>\n",
              "      <td>It is difficult to put into words what I suffe...</td>\n",
              "      <td>0</td>\n",
              "    </tr>\n",
              "    <tr>\n",
              "      <th>554</th>\n",
              "      <td>Shakespeare himself never described this tortu...</td>\n",
              "      <td>0</td>\n",
              "    </tr>\n",
              "    <tr>\n",
              "      <th>555</th>\n",
              "      <td>I had stopped composing; my mind seemed to bec...</td>\n",
              "      <td>0</td>\n",
              "    </tr>\n",
              "    <tr>\n",
              "      <th>556</th>\n",
              "      <td>I did nothing.</td>\n",
              "      <td>0</td>\n",
              "    </tr>\n",
              "    <tr>\n",
              "      <th>557</th>\n",
              "      <td>One power was left to me-to suffer.</td>\n",
              "      <td>0</td>\n",
              "    </tr>\n",
              "  </tbody>\n",
              "</table>\n",
              "<p>558 rows × 2 columns</p>\n",
              "</div>\n",
              "      <button class=\"colab-df-convert\" onclick=\"convertToInteractive('df-439b54c8-4b7e-4dec-b782-c1c4d57f5672')\"\n",
              "              title=\"Convert this dataframe to an interactive table.\"\n",
              "              style=\"display:none;\">\n",
              "\n",
              "  <svg xmlns=\"http://www.w3.org/2000/svg\" height=\"24px\"viewBox=\"0 0 24 24\"\n",
              "       width=\"24px\">\n",
              "    <path d=\"M0 0h24v24H0V0z\" fill=\"none\"/>\n",
              "    <path d=\"M18.56 5.44l.94 2.06.94-2.06 2.06-.94-2.06-.94-.94-2.06-.94 2.06-2.06.94zm-11 1L8.5 8.5l.94-2.06 2.06-.94-2.06-.94L8.5 2.5l-.94 2.06-2.06.94zm10 10l.94 2.06.94-2.06 2.06-.94-2.06-.94-.94-2.06-.94 2.06-2.06.94z\"/><path d=\"M17.41 7.96l-1.37-1.37c-.4-.4-.92-.59-1.43-.59-.52 0-1.04.2-1.43.59L10.3 9.45l-7.72 7.72c-.78.78-.78 2.05 0 2.83L4 21.41c.39.39.9.59 1.41.59.51 0 1.02-.2 1.41-.59l7.78-7.78 2.81-2.81c.8-.78.8-2.07 0-2.86zM5.41 20L4 18.59l7.72-7.72 1.47 1.35L5.41 20z\"/>\n",
              "  </svg>\n",
              "      </button>\n",
              "\n",
              "\n",
              "\n",
              "    <div id=\"df-007aa6d5-7009-4565-96d2-00db00bfca00\">\n",
              "      <button class=\"colab-df-quickchart\" onclick=\"quickchart('df-007aa6d5-7009-4565-96d2-00db00bfca00')\"\n",
              "              title=\"Suggest charts.\"\n",
              "              style=\"display:none;\">\n",
              "\n",
              "<svg xmlns=\"http://www.w3.org/2000/svg\" height=\"24px\"viewBox=\"0 0 24 24\"\n",
              "     width=\"24px\">\n",
              "    <g>\n",
              "        <path d=\"M19 3H5c-1.1 0-2 .9-2 2v14c0 1.1.9 2 2 2h14c1.1 0 2-.9 2-2V5c0-1.1-.9-2-2-2zM9 17H7v-7h2v7zm4 0h-2V7h2v10zm4 0h-2v-4h2v4z\"/>\n",
              "    </g>\n",
              "</svg>\n",
              "      </button>\n",
              "    </div>\n",
              "\n",
              "<style>\n",
              "  .colab-df-quickchart {\n",
              "    background-color: #E8F0FE;\n",
              "    border: none;\n",
              "    border-radius: 50%;\n",
              "    cursor: pointer;\n",
              "    display: none;\n",
              "    fill: #1967D2;\n",
              "    height: 32px;\n",
              "    padding: 0 0 0 0;\n",
              "    width: 32px;\n",
              "  }\n",
              "\n",
              "  .colab-df-quickchart:hover {\n",
              "    background-color: #E2EBFA;\n",
              "    box-shadow: 0px 1px 2px rgba(60, 64, 67, 0.3), 0px 1px 3px 1px rgba(60, 64, 67, 0.15);\n",
              "    fill: #174EA6;\n",
              "  }\n",
              "\n",
              "  [theme=dark] .colab-df-quickchart {\n",
              "    background-color: #3B4455;\n",
              "    fill: #D2E3FC;\n",
              "  }\n",
              "\n",
              "  [theme=dark] .colab-df-quickchart:hover {\n",
              "    background-color: #434B5C;\n",
              "    box-shadow: 0px 1px 3px 1px rgba(0, 0, 0, 0.15);\n",
              "    filter: drop-shadow(0px 1px 2px rgba(0, 0, 0, 0.3));\n",
              "    fill: #FFFFFF;\n",
              "  }\n",
              "</style>\n",
              "\n",
              "    <script>\n",
              "      async function quickchart(key) {\n",
              "        const containerElement = document.querySelector('#' + key);\n",
              "        const charts = await google.colab.kernel.invokeFunction(\n",
              "            'suggestCharts', [key], {});\n",
              "      }\n",
              "    </script>\n",
              "\n",
              "      <script>\n",
              "\n",
              "function displayQuickchartButton(domScope) {\n",
              "  let quickchartButtonEl =\n",
              "    domScope.querySelector('#df-007aa6d5-7009-4565-96d2-00db00bfca00 button.colab-df-quickchart');\n",
              "  quickchartButtonEl.style.display =\n",
              "    google.colab.kernel.accessAllowed ? 'block' : 'none';\n",
              "}\n",
              "\n",
              "        displayQuickchartButton(document);\n",
              "      </script>\n",
              "      <style>\n",
              "    .colab-df-container {\n",
              "      display:flex;\n",
              "      flex-wrap:wrap;\n",
              "      gap: 12px;\n",
              "    }\n",
              "\n",
              "    .colab-df-convert {\n",
              "      background-color: #E8F0FE;\n",
              "      border: none;\n",
              "      border-radius: 50%;\n",
              "      cursor: pointer;\n",
              "      display: none;\n",
              "      fill: #1967D2;\n",
              "      height: 32px;\n",
              "      padding: 0 0 0 0;\n",
              "      width: 32px;\n",
              "    }\n",
              "\n",
              "    .colab-df-convert:hover {\n",
              "      background-color: #E2EBFA;\n",
              "      box-shadow: 0px 1px 2px rgba(60, 64, 67, 0.3), 0px 1px 3px 1px rgba(60, 64, 67, 0.15);\n",
              "      fill: #174EA6;\n",
              "    }\n",
              "\n",
              "    [theme=dark] .colab-df-convert {\n",
              "      background-color: #3B4455;\n",
              "      fill: #D2E3FC;\n",
              "    }\n",
              "\n",
              "    [theme=dark] .colab-df-convert:hover {\n",
              "      background-color: #434B5C;\n",
              "      box-shadow: 0px 1px 3px 1px rgba(0, 0, 0, 0.15);\n",
              "      filter: drop-shadow(0px 1px 2px rgba(0, 0, 0, 0.3));\n",
              "      fill: #FFFFFF;\n",
              "    }\n",
              "  </style>\n",
              "\n",
              "      <script>\n",
              "        const buttonEl =\n",
              "          document.querySelector('#df-439b54c8-4b7e-4dec-b782-c1c4d57f5672 button.colab-df-convert');\n",
              "        buttonEl.style.display =\n",
              "          google.colab.kernel.accessAllowed ? 'block' : 'none';\n",
              "\n",
              "        async function convertToInteractive(key) {\n",
              "          const element = document.querySelector('#df-439b54c8-4b7e-4dec-b782-c1c4d57f5672');\n",
              "          const dataTable =\n",
              "            await google.colab.kernel.invokeFunction('convertToInteractive',\n",
              "                                                     [key], {});\n",
              "          if (!dataTable) return;\n",
              "\n",
              "          const docLinkHtml = 'Like what you see? Visit the ' +\n",
              "            '<a target=\"_blank\" href=https://colab.research.google.com/notebooks/data_table.ipynb>data table notebook</a>'\n",
              "            + ' to learn more about interactive tables.';\n",
              "          element.innerHTML = '';\n",
              "          dataTable['output_type'] = 'display_data';\n",
              "          await google.colab.output.renderOutput(dataTable, element);\n",
              "          const docLink = document.createElement('div');\n",
              "          docLink.innerHTML = docLinkHtml;\n",
              "          element.appendChild(docLink);\n",
              "        }\n",
              "      </script>\n",
              "    </div>\n",
              "  </div>\n"
            ]
          },
          "metadata": {},
          "execution_count": 18
        }
      ]
    },
    {
      "cell_type": "code",
      "source": [
        "df.shape"
      ],
      "metadata": {
        "colab": {
          "base_uri": "https://localhost:8080/"
        },
        "id": "ZRNcNsrrs0mi",
        "outputId": "065c6abe-74fd-48e2-b04d-64307cc482a7"
      },
      "execution_count": 19,
      "outputs": [
        {
          "output_type": "execute_result",
          "data": {
            "text/plain": [
              "(558, 2)"
            ]
          },
          "metadata": {},
          "execution_count": 19
        }
      ]
    },
    {
      "cell_type": "code",
      "source": [
        "df.info()"
      ],
      "metadata": {
        "colab": {
          "base_uri": "https://localhost:8080/"
        },
        "id": "2brKis-oyWq0",
        "outputId": "d8c4c8fc-2267-4a3a-b79a-dfe0e2a7b194"
      },
      "execution_count": 20,
      "outputs": [
        {
          "output_type": "stream",
          "name": "stdout",
          "text": [
            "<class 'pandas.core.frame.DataFrame'>\n",
            "Int64Index: 558 entries, 0 to 557\n",
            "Data columns (total 2 columns):\n",
            " #   Column  Non-Null Count  Dtype \n",
            "---  ------  --------------  ----- \n",
            " 0   quotes  558 non-null    object\n",
            " 1   label   558 non-null    int64 \n",
            "dtypes: int64(1), object(1)\n",
            "memory usage: 13.1+ KB\n"
          ]
        }
      ]
    },
    {
      "cell_type": "code",
      "source": [
        "df['label'].value_counts()"
      ],
      "metadata": {
        "colab": {
          "base_uri": "https://localhost:8080/"
        },
        "id": "HZHizYZ3s0nP",
        "outputId": "1af494e6-db63-4135-f4e9-f7e9ed269120"
      },
      "execution_count": 21,
      "outputs": [
        {
          "output_type": "execute_result",
          "data": {
            "text/plain": [
              "1    280\n",
              "0    278\n",
              "Name: label, dtype: int64"
            ]
          },
          "metadata": {},
          "execution_count": 21
        }
      ]
    },
    {
      "cell_type": "code",
      "source": [
        "# downloading nltk dependencies\n",
        "nltk.download('stopwords')\n",
        "nltk.download('omw-1.4')\n",
        "nltk.download('wordnet')\n",
        "\n",
        "nltk.download('punkt')\n",
        "\n",
        "from nltk.corpus import stopwords\n"
      ],
      "metadata": {
        "colab": {
          "base_uri": "https://localhost:8080/"
        },
        "id": "FF62x6dVs0oM",
        "outputId": "3f1c81a9-dda2-4ecd-f8ed-55248902f1a3"
      },
      "execution_count": 26,
      "outputs": [
        {
          "output_type": "stream",
          "name": "stderr",
          "text": [
            "[nltk_data] Downloading package stopwords to /root/nltk_data...\n",
            "[nltk_data]   Package stopwords is already up-to-date!\n",
            "[nltk_data] Downloading package omw-1.4 to /root/nltk_data...\n",
            "[nltk_data] Downloading package wordnet to /root/nltk_data...\n",
            "[nltk_data] Downloading package punkt to /root/nltk_data...\n",
            "[nltk_data]   Package punkt is already up-to-date!\n"
          ]
        }
      ]
    },
    {
      "cell_type": "code",
      "source": [
        "from nltk.stem import WordNetLemmatizer"
      ],
      "metadata": {
        "id": "al4V0QH2ylbN"
      },
      "execution_count": 24,
      "outputs": []
    },
    {
      "cell_type": "code",
      "source": [
        "y = df['label']\n",
        "\n",
        "y = y.to_numpy()\n",
        "\n",
        "type(y)"
      ],
      "metadata": {
        "colab": {
          "base_uri": "https://localhost:8080/"
        },
        "id": "b0p75TCUyhLO",
        "outputId": "e97cc1f8-239e-4b05-85f1-11b0818be9da"
      },
      "execution_count": 63,
      "outputs": [
        {
          "output_type": "execute_result",
          "data": {
            "text/plain": [
              "numpy.ndarray"
            ]
          },
          "metadata": {},
          "execution_count": 63
        }
      ]
    },
    {
      "cell_type": "code",
      "source": [
        "all_stopwords = stopwords.words('english')\n",
        "negation = ['no','not']\n",
        "\n",
        "all_stopwords = [ w for w in all_stopwords if w not in negation]"
      ],
      "metadata": {
        "id": "MMxAOsEiy76h"
      },
      "execution_count": 27,
      "outputs": []
    },
    {
      "cell_type": "code",
      "source": [
        "lemma = WordNetLemmatizer()"
      ],
      "metadata": {
        "id": "7EzYszyf0WNv"
      },
      "execution_count": 29,
      "outputs": []
    },
    {
      "cell_type": "code",
      "source": [
        "def preprocessing(data):\n",
        "  corpus = []\n",
        "  for i in range(len(data)):\n",
        "    review = data.iloc[i].lower()\n",
        "    review = re.sub(r'\\d+', ' ', review)\n",
        "    review = review.split(' ')\n",
        "\n",
        "    review = [lemma.lemmatize(word) for word in review if word not in all_stopwords ]\n",
        "    review = ' '.join(review)\n",
        "    corpus.append(review)\n",
        "  return corpus\n",
        "\n"
      ],
      "metadata": {
        "id": "Juv0jFtJy79I"
      },
      "execution_count": 47,
      "outputs": []
    },
    {
      "cell_type": "code",
      "source": [
        "review = preprocessing(df['quotes'])"
      ],
      "metadata": {
        "id": "J9pfDMQCzhhe"
      },
      "execution_count": 48,
      "outputs": []
    },
    {
      "cell_type": "code",
      "source": [
        "df['quotes']"
      ],
      "metadata": {
        "colab": {
          "base_uri": "https://localhost:8080/"
        },
        "id": "mhEi9MJV1P7d",
        "outputId": "e3d06536-69a3-4486-c3f5-2f877e4e2ada"
      },
      "execution_count": 49,
      "outputs": [
        {
          "output_type": "execute_result",
          "data": {
            "text/plain": [
              "0      Age is an issue of mind over matter. If you do...\n",
              "1      Anyone who stops learning is old, whether at t...\n",
              "2      Wrinkles should merely indicate where smiles h...\n",
              "3      True terror is to wake up one morning and disc...\n",
              "4      A diplomat is a man who always remembers a wom...\n",
              "                             ...                        \n",
              "553    It is difficult to put into words what I suffe...\n",
              "554    Shakespeare himself never described this tortu...\n",
              "555    I had stopped composing; my mind seemed to bec...\n",
              "556                                       I did nothing.\n",
              "557                  One power was left to me-to suffer.\n",
              "Name: quotes, Length: 558, dtype: object"
            ]
          },
          "metadata": {},
          "execution_count": 49
        }
      ]
    },
    {
      "cell_type": "code",
      "source": [
        "review"
      ],
      "metadata": {
        "id": "krbka-xVzhkO"
      },
      "execution_count": null,
      "outputs": []
    },
    {
      "cell_type": "code",
      "source": [
        "from sklearn.feature_extraction.text import TfidfVectorizer"
      ],
      "metadata": {
        "id": "n9OC7TI42Ry3"
      },
      "execution_count": 53,
      "outputs": []
    },
    {
      "cell_type": "code",
      "source": [
        "tfidf = TfidfVectorizer()\n",
        "X = tfidf.fit_transform(review).toarray()\n",
        "X = X.astype(float)"
      ],
      "metadata": {
        "id": "j-mEcDgS1IFe"
      },
      "execution_count": 57,
      "outputs": []
    },
    {
      "cell_type": "code",
      "source": [
        "X.dtype"
      ],
      "metadata": {
        "colab": {
          "base_uri": "https://localhost:8080/"
        },
        "id": "udovkJPn1IJM",
        "outputId": "e76bd499-06a4-428a-e4eb-4c4aa2146e71"
      },
      "execution_count": 61,
      "outputs": [
        {
          "output_type": "execute_result",
          "data": {
            "text/plain": [
              "dtype('float64')"
            ]
          },
          "metadata": {},
          "execution_count": 61
        }
      ]
    },
    {
      "cell_type": "code",
      "source": [
        "X.shape"
      ],
      "metadata": {
        "colab": {
          "base_uri": "https://localhost:8080/"
        },
        "id": "EkUU7oYj094L",
        "outputId": "87de56ff-6034-4e2a-932e-26ef3599a874"
      },
      "execution_count": 68,
      "outputs": [
        {
          "output_type": "execute_result",
          "data": {
            "text/plain": [
              "(558, 2110)"
            ]
          },
          "metadata": {},
          "execution_count": 68
        }
      ]
    },
    {
      "cell_type": "code",
      "source": [
        "X_train,X_test,y_train,y_test = train_test_split(X,y,test_size = 0.25,stratify = y,\n",
        "                                                 random_state=42)"
      ],
      "metadata": {
        "id": "9qEtojQw2sPw"
      },
      "execution_count": 64,
      "outputs": []
    },
    {
      "cell_type": "code",
      "source": [
        "import tensorflow as tf\n",
        "from tensorflow import keras\n",
        "\n",
        "from tensorflow.keras.models import Sequential\n",
        "from tensorflow.keras.layers import Dense,Flatten\n"
      ],
      "metadata": {
        "id": "5VgGxpyk2sTp"
      },
      "execution_count": 66,
      "outputs": []
    },
    {
      "cell_type": "code",
      "source": [
        "INPUT_DIM = X.shape[1]\n",
        "# NUMBER OF FEATURES"
      ],
      "metadata": {
        "id": "_0qQIryk3hVB"
      },
      "execution_count": 69,
      "outputs": []
    },
    {
      "cell_type": "code",
      "source": [
        "model_1 = Sequential()\n",
        "model_1.add(Dense(32,input_dim = INPUT_DIM,activation='relu'))\n",
        "model_1.add(Dense(1,activation = 'sigmoid'))"
      ],
      "metadata": {
        "id": "zcWXwNyO0-CL"
      },
      "execution_count": 75,
      "outputs": []
    },
    {
      "cell_type": "code",
      "source": [
        "model_1.compile(loss = 'binary_crossentropy',\n",
        "              optimizer = 'adam',\n",
        "              metrics = ['accuracy'])"
      ],
      "metadata": {
        "id": "cTRnaNAnzhmc"
      },
      "execution_count": 76,
      "outputs": []
    },
    {
      "cell_type": "code",
      "source": [
        "model1_history = model_1.fit(X_train,y_train,validation_split=0.20,epochs=100,batch_size=10)"
      ],
      "metadata": {
        "colab": {
          "base_uri": "https://localhost:8080/"
        },
        "id": "1HnTxn-LzhsY",
        "outputId": "07c3ae28-8312-4736-d3fd-88f97ef6c53d"
      },
      "execution_count": 77,
      "outputs": [
        {
          "output_type": "stream",
          "name": "stdout",
          "text": [
            "Epoch 1/100\n",
            "34/34 [==============================] - 1s 8ms/step - loss: 0.6872 - accuracy: 0.6976 - val_loss: 0.6836 - val_accuracy: 0.6905\n",
            "Epoch 2/100\n",
            "34/34 [==============================] - 0s 4ms/step - loss: 0.6555 - accuracy: 0.8743 - val_loss: 0.6662 - val_accuracy: 0.7262\n",
            "Epoch 3/100\n",
            "34/34 [==============================] - 0s 4ms/step - loss: 0.5998 - accuracy: 0.9760 - val_loss: 0.6354 - val_accuracy: 0.7500\n",
            "Epoch 4/100\n",
            "34/34 [==============================] - 0s 4ms/step - loss: 0.5193 - accuracy: 0.9820 - val_loss: 0.5972 - val_accuracy: 0.7381\n",
            "Epoch 5/100\n",
            "34/34 [==============================] - 0s 6ms/step - loss: 0.4263 - accuracy: 1.0000 - val_loss: 0.5533 - val_accuracy: 0.7857\n",
            "Epoch 6/100\n",
            "34/34 [==============================] - 0s 5ms/step - loss: 0.3364 - accuracy: 1.0000 - val_loss: 0.5120 - val_accuracy: 0.8333\n",
            "Epoch 7/100\n",
            "34/34 [==============================] - 0s 4ms/step - loss: 0.2603 - accuracy: 1.0000 - val_loss: 0.4770 - val_accuracy: 0.8095\n",
            "Epoch 8/100\n",
            "34/34 [==============================] - 0s 4ms/step - loss: 0.2011 - accuracy: 1.0000 - val_loss: 0.4478 - val_accuracy: 0.8095\n",
            "Epoch 9/100\n",
            "34/34 [==============================] - 0s 4ms/step - loss: 0.1568 - accuracy: 1.0000 - val_loss: 0.4241 - val_accuracy: 0.8214\n",
            "Epoch 10/100\n",
            "34/34 [==============================] - 0s 4ms/step - loss: 0.1235 - accuracy: 1.0000 - val_loss: 0.4052 - val_accuracy: 0.8214\n",
            "Epoch 11/100\n",
            "34/34 [==============================] - 0s 4ms/step - loss: 0.0991 - accuracy: 1.0000 - val_loss: 0.3894 - val_accuracy: 0.8095\n",
            "Epoch 12/100\n",
            "34/34 [==============================] - 0s 5ms/step - loss: 0.0810 - accuracy: 1.0000 - val_loss: 0.3768 - val_accuracy: 0.7976\n",
            "Epoch 13/100\n",
            "34/34 [==============================] - 0s 4ms/step - loss: 0.0669 - accuracy: 1.0000 - val_loss: 0.3667 - val_accuracy: 0.8095\n",
            "Epoch 14/100\n",
            "34/34 [==============================] - 0s 4ms/step - loss: 0.0564 - accuracy: 1.0000 - val_loss: 0.3574 - val_accuracy: 0.8333\n",
            "Epoch 15/100\n",
            "34/34 [==============================] - 0s 4ms/step - loss: 0.0479 - accuracy: 1.0000 - val_loss: 0.3506 - val_accuracy: 0.8095\n",
            "Epoch 16/100\n",
            "34/34 [==============================] - 0s 5ms/step - loss: 0.0412 - accuracy: 1.0000 - val_loss: 0.3440 - val_accuracy: 0.8333\n",
            "Epoch 17/100\n",
            "34/34 [==============================] - 0s 5ms/step - loss: 0.0360 - accuracy: 1.0000 - val_loss: 0.3382 - val_accuracy: 0.8333\n",
            "Epoch 18/100\n",
            "34/34 [==============================] - 0s 5ms/step - loss: 0.0315 - accuracy: 1.0000 - val_loss: 0.3331 - val_accuracy: 0.8333\n",
            "Epoch 19/100\n",
            "34/34 [==============================] - 0s 4ms/step - loss: 0.0279 - accuracy: 1.0000 - val_loss: 0.3294 - val_accuracy: 0.8333\n",
            "Epoch 20/100\n",
            "34/34 [==============================] - 0s 4ms/step - loss: 0.0250 - accuracy: 1.0000 - val_loss: 0.3254 - val_accuracy: 0.8333\n",
            "Epoch 21/100\n",
            "34/34 [==============================] - 0s 5ms/step - loss: 0.0224 - accuracy: 1.0000 - val_loss: 0.3225 - val_accuracy: 0.8333\n",
            "Epoch 22/100\n",
            "34/34 [==============================] - 0s 5ms/step - loss: 0.0202 - accuracy: 1.0000 - val_loss: 0.3198 - val_accuracy: 0.8333\n",
            "Epoch 23/100\n",
            "34/34 [==============================] - 0s 4ms/step - loss: 0.0183 - accuracy: 1.0000 - val_loss: 0.3168 - val_accuracy: 0.8333\n",
            "Epoch 24/100\n",
            "34/34 [==============================] - 0s 4ms/step - loss: 0.0167 - accuracy: 1.0000 - val_loss: 0.3140 - val_accuracy: 0.8333\n",
            "Epoch 25/100\n",
            "34/34 [==============================] - 0s 4ms/step - loss: 0.0153 - accuracy: 1.0000 - val_loss: 0.3119 - val_accuracy: 0.8333\n",
            "Epoch 26/100\n",
            "34/34 [==============================] - 0s 4ms/step - loss: 0.0141 - accuracy: 1.0000 - val_loss: 0.3100 - val_accuracy: 0.8452\n",
            "Epoch 27/100\n",
            "34/34 [==============================] - 0s 5ms/step - loss: 0.0130 - accuracy: 1.0000 - val_loss: 0.3085 - val_accuracy: 0.8452\n",
            "Epoch 28/100\n",
            "34/34 [==============================] - 0s 7ms/step - loss: 0.0120 - accuracy: 1.0000 - val_loss: 0.3067 - val_accuracy: 0.8333\n",
            "Epoch 29/100\n",
            "34/34 [==============================] - 0s 12ms/step - loss: 0.0112 - accuracy: 1.0000 - val_loss: 0.3049 - val_accuracy: 0.8333\n",
            "Epoch 30/100\n",
            "34/34 [==============================] - 0s 10ms/step - loss: 0.0104 - accuracy: 1.0000 - val_loss: 0.3039 - val_accuracy: 0.8333\n",
            "Epoch 31/100\n",
            "34/34 [==============================] - 0s 7ms/step - loss: 0.0097 - accuracy: 1.0000 - val_loss: 0.3029 - val_accuracy: 0.8452\n",
            "Epoch 32/100\n",
            "34/34 [==============================] - 0s 9ms/step - loss: 0.0090 - accuracy: 1.0000 - val_loss: 0.3014 - val_accuracy: 0.8452\n",
            "Epoch 33/100\n",
            "34/34 [==============================] - 0s 8ms/step - loss: 0.0084 - accuracy: 1.0000 - val_loss: 0.3001 - val_accuracy: 0.8452\n",
            "Epoch 34/100\n",
            "34/34 [==============================] - 0s 11ms/step - loss: 0.0079 - accuracy: 1.0000 - val_loss: 0.2997 - val_accuracy: 0.8452\n",
            "Epoch 35/100\n",
            "34/34 [==============================] - 0s 13ms/step - loss: 0.0075 - accuracy: 1.0000 - val_loss: 0.2988 - val_accuracy: 0.8452\n",
            "Epoch 36/100\n",
            "34/34 [==============================] - 0s 10ms/step - loss: 0.0070 - accuracy: 1.0000 - val_loss: 0.2978 - val_accuracy: 0.8571\n",
            "Epoch 37/100\n",
            "34/34 [==============================] - 0s 10ms/step - loss: 0.0066 - accuracy: 1.0000 - val_loss: 0.2974 - val_accuracy: 0.8571\n",
            "Epoch 38/100\n",
            "34/34 [==============================] - 0s 10ms/step - loss: 0.0063 - accuracy: 1.0000 - val_loss: 0.2967 - val_accuracy: 0.8571\n",
            "Epoch 39/100\n",
            "34/34 [==============================] - 1s 17ms/step - loss: 0.0060 - accuracy: 1.0000 - val_loss: 0.2965 - val_accuracy: 0.8571\n",
            "Epoch 40/100\n",
            "34/34 [==============================] - 1s 16ms/step - loss: 0.0056 - accuracy: 1.0000 - val_loss: 0.2958 - val_accuracy: 0.8571\n",
            "Epoch 41/100\n",
            "34/34 [==============================] - 0s 13ms/step - loss: 0.0054 - accuracy: 1.0000 - val_loss: 0.2955 - val_accuracy: 0.8571\n",
            "Epoch 42/100\n",
            "34/34 [==============================] - 0s 13ms/step - loss: 0.0051 - accuracy: 1.0000 - val_loss: 0.2946 - val_accuracy: 0.8571\n",
            "Epoch 43/100\n",
            "34/34 [==============================] - 1s 17ms/step - loss: 0.0048 - accuracy: 1.0000 - val_loss: 0.2950 - val_accuracy: 0.8571\n",
            "Epoch 44/100\n",
            "34/34 [==============================] - 0s 7ms/step - loss: 0.0046 - accuracy: 1.0000 - val_loss: 0.2946 - val_accuracy: 0.8571\n",
            "Epoch 45/100\n",
            "34/34 [==============================] - 0s 8ms/step - loss: 0.0044 - accuracy: 1.0000 - val_loss: 0.2949 - val_accuracy: 0.8571\n",
            "Epoch 46/100\n",
            "34/34 [==============================] - 0s 6ms/step - loss: 0.0042 - accuracy: 1.0000 - val_loss: 0.2936 - val_accuracy: 0.8571\n",
            "Epoch 47/100\n",
            "34/34 [==============================] - 0s 5ms/step - loss: 0.0040 - accuracy: 1.0000 - val_loss: 0.2938 - val_accuracy: 0.8571\n",
            "Epoch 48/100\n",
            "34/34 [==============================] - 0s 4ms/step - loss: 0.0038 - accuracy: 1.0000 - val_loss: 0.2931 - val_accuracy: 0.8571\n",
            "Epoch 49/100\n",
            "34/34 [==============================] - 0s 5ms/step - loss: 0.0036 - accuracy: 1.0000 - val_loss: 0.2933 - val_accuracy: 0.8571\n",
            "Epoch 50/100\n",
            "34/34 [==============================] - 0s 4ms/step - loss: 0.0035 - accuracy: 1.0000 - val_loss: 0.2933 - val_accuracy: 0.8571\n",
            "Epoch 51/100\n",
            "34/34 [==============================] - 0s 5ms/step - loss: 0.0033 - accuracy: 1.0000 - val_loss: 0.2930 - val_accuracy: 0.8571\n",
            "Epoch 52/100\n",
            "34/34 [==============================] - 0s 5ms/step - loss: 0.0032 - accuracy: 1.0000 - val_loss: 0.2926 - val_accuracy: 0.8571\n",
            "Epoch 53/100\n",
            "34/34 [==============================] - 0s 4ms/step - loss: 0.0031 - accuracy: 1.0000 - val_loss: 0.2934 - val_accuracy: 0.8571\n",
            "Epoch 54/100\n",
            "34/34 [==============================] - 0s 4ms/step - loss: 0.0030 - accuracy: 1.0000 - val_loss: 0.2928 - val_accuracy: 0.8571\n",
            "Epoch 55/100\n",
            "34/34 [==============================] - 0s 4ms/step - loss: 0.0028 - accuracy: 1.0000 - val_loss: 0.2933 - val_accuracy: 0.8571\n",
            "Epoch 56/100\n",
            "34/34 [==============================] - 0s 4ms/step - loss: 0.0027 - accuracy: 1.0000 - val_loss: 0.2929 - val_accuracy: 0.8571\n",
            "Epoch 57/100\n",
            "34/34 [==============================] - 0s 5ms/step - loss: 0.0026 - accuracy: 1.0000 - val_loss: 0.2926 - val_accuracy: 0.8571\n",
            "Epoch 58/100\n",
            "34/34 [==============================] - 0s 5ms/step - loss: 0.0025 - accuracy: 1.0000 - val_loss: 0.2935 - val_accuracy: 0.8690\n",
            "Epoch 59/100\n",
            "34/34 [==============================] - 0s 4ms/step - loss: 0.0024 - accuracy: 1.0000 - val_loss: 0.2933 - val_accuracy: 0.8690\n",
            "Epoch 60/100\n",
            "34/34 [==============================] - 0s 5ms/step - loss: 0.0023 - accuracy: 1.0000 - val_loss: 0.2939 - val_accuracy: 0.8690\n",
            "Epoch 61/100\n",
            "34/34 [==============================] - 0s 4ms/step - loss: 0.0022 - accuracy: 1.0000 - val_loss: 0.2933 - val_accuracy: 0.8690\n",
            "Epoch 62/100\n",
            "34/34 [==============================] - 0s 4ms/step - loss: 0.0022 - accuracy: 1.0000 - val_loss: 0.2935 - val_accuracy: 0.8690\n",
            "Epoch 63/100\n",
            "34/34 [==============================] - 0s 4ms/step - loss: 0.0021 - accuracy: 1.0000 - val_loss: 0.2940 - val_accuracy: 0.8690\n",
            "Epoch 64/100\n",
            "34/34 [==============================] - 0s 5ms/step - loss: 0.0020 - accuracy: 1.0000 - val_loss: 0.2942 - val_accuracy: 0.8690\n",
            "Epoch 65/100\n",
            "34/34 [==============================] - 0s 4ms/step - loss: 0.0019 - accuracy: 1.0000 - val_loss: 0.2951 - val_accuracy: 0.8690\n",
            "Epoch 66/100\n",
            "34/34 [==============================] - 0s 4ms/step - loss: 0.0019 - accuracy: 1.0000 - val_loss: 0.2949 - val_accuracy: 0.8690\n",
            "Epoch 67/100\n",
            "34/34 [==============================] - 0s 5ms/step - loss: 0.0018 - accuracy: 1.0000 - val_loss: 0.2948 - val_accuracy: 0.8690\n",
            "Epoch 68/100\n",
            "34/34 [==============================] - 0s 4ms/step - loss: 0.0018 - accuracy: 1.0000 - val_loss: 0.2954 - val_accuracy: 0.8690\n",
            "Epoch 69/100\n",
            "34/34 [==============================] - 0s 4ms/step - loss: 0.0017 - accuracy: 1.0000 - val_loss: 0.2956 - val_accuracy: 0.8690\n",
            "Epoch 70/100\n",
            "34/34 [==============================] - 0s 5ms/step - loss: 0.0016 - accuracy: 1.0000 - val_loss: 0.2945 - val_accuracy: 0.8690\n",
            "Epoch 71/100\n",
            "34/34 [==============================] - 0s 4ms/step - loss: 0.0016 - accuracy: 1.0000 - val_loss: 0.2963 - val_accuracy: 0.8690\n",
            "Epoch 72/100\n",
            "34/34 [==============================] - 0s 4ms/step - loss: 0.0015 - accuracy: 1.0000 - val_loss: 0.2965 - val_accuracy: 0.8690\n",
            "Epoch 73/100\n",
            "34/34 [==============================] - 0s 4ms/step - loss: 0.0015 - accuracy: 1.0000 - val_loss: 0.2970 - val_accuracy: 0.8690\n",
            "Epoch 74/100\n",
            "34/34 [==============================] - 0s 4ms/step - loss: 0.0014 - accuracy: 1.0000 - val_loss: 0.2967 - val_accuracy: 0.8690\n",
            "Epoch 75/100\n",
            "34/34 [==============================] - 0s 4ms/step - loss: 0.0014 - accuracy: 1.0000 - val_loss: 0.2972 - val_accuracy: 0.8690\n",
            "Epoch 76/100\n",
            "34/34 [==============================] - 0s 4ms/step - loss: 0.0013 - accuracy: 1.0000 - val_loss: 0.2974 - val_accuracy: 0.8690\n",
            "Epoch 77/100\n",
            "34/34 [==============================] - 0s 5ms/step - loss: 0.0013 - accuracy: 1.0000 - val_loss: 0.2973 - val_accuracy: 0.8690\n",
            "Epoch 78/100\n",
            "34/34 [==============================] - 0s 4ms/step - loss: 0.0013 - accuracy: 1.0000 - val_loss: 0.2983 - val_accuracy: 0.8690\n",
            "Epoch 79/100\n",
            "34/34 [==============================] - 0s 4ms/step - loss: 0.0012 - accuracy: 1.0000 - val_loss: 0.2982 - val_accuracy: 0.8690\n",
            "Epoch 80/100\n",
            "34/34 [==============================] - 0s 5ms/step - loss: 0.0012 - accuracy: 1.0000 - val_loss: 0.2988 - val_accuracy: 0.8690\n",
            "Epoch 81/100\n",
            "34/34 [==============================] - 0s 5ms/step - loss: 0.0012 - accuracy: 1.0000 - val_loss: 0.2991 - val_accuracy: 0.8690\n",
            "Epoch 82/100\n",
            "34/34 [==============================] - 0s 4ms/step - loss: 0.0011 - accuracy: 1.0000 - val_loss: 0.2997 - val_accuracy: 0.8690\n",
            "Epoch 83/100\n",
            "34/34 [==============================] - 0s 5ms/step - loss: 0.0011 - accuracy: 1.0000 - val_loss: 0.2994 - val_accuracy: 0.8690\n",
            "Epoch 84/100\n",
            "34/34 [==============================] - 0s 4ms/step - loss: 0.0011 - accuracy: 1.0000 - val_loss: 0.2998 - val_accuracy: 0.8690\n",
            "Epoch 85/100\n",
            "34/34 [==============================] - 0s 4ms/step - loss: 0.0010 - accuracy: 1.0000 - val_loss: 0.3002 - val_accuracy: 0.8690\n",
            "Epoch 86/100\n",
            "34/34 [==============================] - 0s 5ms/step - loss: 9.9248e-04 - accuracy: 1.0000 - val_loss: 0.3013 - val_accuracy: 0.8810\n",
            "Epoch 87/100\n",
            "34/34 [==============================] - 0s 5ms/step - loss: 9.6283e-04 - accuracy: 1.0000 - val_loss: 0.3011 - val_accuracy: 0.8810\n",
            "Epoch 88/100\n",
            "34/34 [==============================] - 0s 4ms/step - loss: 9.3587e-04 - accuracy: 1.0000 - val_loss: 0.3018 - val_accuracy: 0.8810\n",
            "Epoch 89/100\n",
            "34/34 [==============================] - 0s 5ms/step - loss: 9.0968e-04 - accuracy: 1.0000 - val_loss: 0.3020 - val_accuracy: 0.8810\n",
            "Epoch 90/100\n",
            "34/34 [==============================] - 0s 4ms/step - loss: 8.8433e-04 - accuracy: 1.0000 - val_loss: 0.3028 - val_accuracy: 0.8810\n",
            "Epoch 91/100\n",
            "34/34 [==============================] - 0s 5ms/step - loss: 8.5829e-04 - accuracy: 1.0000 - val_loss: 0.3029 - val_accuracy: 0.8810\n",
            "Epoch 92/100\n",
            "34/34 [==============================] - 0s 4ms/step - loss: 8.3474e-04 - accuracy: 1.0000 - val_loss: 0.3039 - val_accuracy: 0.8810\n",
            "Epoch 93/100\n",
            "34/34 [==============================] - 0s 5ms/step - loss: 8.1166e-04 - accuracy: 1.0000 - val_loss: 0.3035 - val_accuracy: 0.8810\n",
            "Epoch 94/100\n",
            "34/34 [==============================] - 0s 4ms/step - loss: 7.8896e-04 - accuracy: 1.0000 - val_loss: 0.3045 - val_accuracy: 0.8810\n",
            "Epoch 95/100\n",
            "34/34 [==============================] - 0s 4ms/step - loss: 7.6835e-04 - accuracy: 1.0000 - val_loss: 0.3051 - val_accuracy: 0.8810\n",
            "Epoch 96/100\n",
            "34/34 [==============================] - 0s 5ms/step - loss: 7.4690e-04 - accuracy: 1.0000 - val_loss: 0.3050 - val_accuracy: 0.8810\n",
            "Epoch 97/100\n",
            "34/34 [==============================] - 0s 5ms/step - loss: 7.2765e-04 - accuracy: 1.0000 - val_loss: 0.3048 - val_accuracy: 0.8810\n",
            "Epoch 98/100\n",
            "34/34 [==============================] - 0s 5ms/step - loss: 7.0702e-04 - accuracy: 1.0000 - val_loss: 0.3056 - val_accuracy: 0.8810\n",
            "Epoch 99/100\n",
            "34/34 [==============================] - 0s 5ms/step - loss: 6.8907e-04 - accuracy: 1.0000 - val_loss: 0.3070 - val_accuracy: 0.8810\n",
            "Epoch 100/100\n",
            "34/34 [==============================] - 0s 4ms/step - loss: 6.6984e-04 - accuracy: 1.0000 - val_loss: 0.3072 - val_accuracy: 0.8810\n"
          ]
        }
      ]
    },
    {
      "cell_type": "code",
      "source": [
        "import matplotlib.pyplot as plt\n",
        "def accuracy(model):\n",
        "  plt.plot(model.history['accuracy'])\n",
        "  plt.plot(model.history['val_accuracy'])\n",
        "  plt.title(f\"{model}  Accuracy \")\n",
        "  plt.ylabel(\"Accuracy\")\n",
        "  plt.xlabel(\"Epochs\")\n",
        "  plt.legend(['Train','Test'],loc='best')\n",
        "  plt.show()\n",
        "\n",
        "\n",
        "def loss_plot(model):\n",
        "  plt.plot(model.history['loss'])\n",
        "  plt.plot(model.history['val_loss'])\n",
        "  plt.title(f\"{model} Loss \")\n",
        "  plt.ylabel(\"Loss\")\n",
        "  plt.xlabel(\"Epochs\")\n",
        "  plt.legend(['Train','Test'],loc='best')\n",
        "  plt.show()\n"
      ],
      "metadata": {
        "id": "uZMrHVe9zhvM"
      },
      "execution_count": 80,
      "outputs": []
    },
    {
      "cell_type": "code",
      "source": [
        "accuracy(model1_history)"
      ],
      "metadata": {
        "colab": {
          "base_uri": "https://localhost:8080/",
          "height": 472
        },
        "id": "u6HjRWCuy7_x",
        "outputId": "92d004cc-7b59-40da-a776-a9ca930eaf5a"
      },
      "execution_count": 81,
      "outputs": [
        {
          "output_type": "display_data",
          "data": {
            "text/plain": [
              "<Figure size 640x480 with 1 Axes>"
            ],
            "image/png": "[encoded data removed]"
          },
          "metadata": {}
        }
      ]
    },
    {
      "cell_type": "code",
      "source": [
        "loss_plot(model1_history)"
      ],
      "metadata": {
        "colab": {
          "base_uri": "https://localhost:8080/",
          "height": 472
        },
        "id": "oRGBXQ3TyhN-",
        "outputId": "bc9a50c5-ee91-4693-ab3c-65ce2f4aab45"
      },
      "execution_count": 83,
      "outputs": [
        {
          "output_type": "display_data",
          "data": {
            "text/plain": [
              "<Figure size 640x480 with 1 Axes>"
            ],
            "image/png": "[encoded data removed]"
          },
          "metadata": {}
        }
      ]
    },
    {
      "cell_type": "code",
      "source": [
        "! pip install -U keras-tuner"
      ],
      "metadata": {
        "colab": {
          "base_uri": "https://localhost:8080/"
        },
        "id": "QeCnQXC-9MgK",
        "outputId": "e018d34e-5e64-4895-eedc-47ec82ad5974"
      },
      "execution_count": 94,
      "outputs": [
        {
          "output_type": "stream",
          "name": "stdout",
          "text": [
            "Collecting keras-tuner\n",
            "  Downloading keras_tuner-1.3.5-py3-none-any.whl (176 kB)\n",
            "\u001b[?25l     \u001b[90m━━━━━━━━━━━━━━━━━━━━━━━━━━━━━━━━━━━━━━━━\u001b[0m \u001b[32m0.0/176.1 kB\u001b[0m \u001b[31m?\u001b[0m eta \u001b[36m-:--:--\u001b[0m\r\u001b[2K     \u001b[91m━━━━━━━━━━━━━━━━━━━━━━━━\u001b[0m\u001b[91m╸\u001b[0m\u001b[90m━━━━━━━━━━━━━━\u001b[0m \u001b[32m112.6/176.1 kB\u001b[0m \u001b[31m3.5 MB/s\u001b[0m eta \u001b[36m0:00:01\u001b[0m\r\u001b[2K     \u001b[90m━━━━━━━━━━━━━━━━━━━━━━━━━━━━━━━━━━━━━━━\u001b[0m \u001b[32m176.1/176.1 kB\u001b[0m \u001b[31m4.0 MB/s\u001b[0m eta \u001b[36m0:00:00\u001b[0m\n",
            "\u001b[?25hRequirement already satisfied: packaging in /usr/local/lib/python3.10/dist-packages (from keras-tuner) (23.1)\n",
            "Requirement already satisfied: requests in /usr/local/lib/python3.10/dist-packages (from keras-tuner) (2.27.1)\n",
            "Collecting kt-legacy (from keras-tuner)\n",
            "  Downloading kt_legacy-1.0.5-py3-none-any.whl (9.6 kB)\n",
            "Requirement already satisfied: urllib3<1.27,>=1.21.1 in /usr/local/lib/python3.10/dist-packages (from requests->keras-tuner) (1.26.16)\n",
            "Requirement already satisfied: certifi>=2017.4.17 in /usr/local/lib/python3.10/dist-packages (from requests->keras-tuner) (2023.5.7)\n",
            "Requirement already satisfied: charset-normalizer~=2.0.0 in /usr/local/lib/python3.10/dist-packages (from requests->keras-tuner) (2.0.12)\n",
            "Requirement already satisfied: idna<4,>=2.5 in /usr/local/lib/python3.10/dist-packages (from requests->keras-tuner) (3.4)\n",
            "Installing collected packages: kt-legacy, keras-tuner\n",
            "Successfully installed keras-tuner-1.3.5 kt-legacy-1.0.5\n"
          ]
        }
      ]
    },
    {
      "cell_type": "code",
      "source": [
        "from kerastuner.tuners import RandomSearch"
      ],
      "metadata": {
        "colab": {
          "base_uri": "https://localhost:8080/"
        },
        "id": "-tWD-Lcz9CLL",
        "outputId": "7963a00c-e1d2-45a2-ae42-d619e8b02198"
      },
      "execution_count": 95,
      "outputs": [
        {
          "output_type": "stream",
          "name": "stderr",
          "text": [
            "<ipython-input-95-94471a811b41>:1: DeprecationWarning: `import kerastuner` is deprecated, please use `import keras_tuner`.\n",
            "  from kerastuner.tuners import RandomSearch\n"
          ]
        }
      ]
    },
    {
      "cell_type": "code",
      "source": [
        "nodes = [6,8,32,64,128,256,512,1024]"
      ],
      "metadata": {
        "id": "t1agMiPMyhQt"
      },
      "execution_count": 84,
      "outputs": []
    },
    {
      "cell_type": "code",
      "source": [
        "# Define the power range for the step sizes\n",
        "power_range = range(2, 11)  # From 2^2 = 4 to 2^10 = 1024\n",
        "\n",
        "# Generate the step sizes as powers of 2 and store them in a list\n",
        "step_sizes = [pow(2, power) for power in power_range]\n",
        "\n",
        "print(step_sizes)\n"
      ],
      "metadata": {
        "colab": {
          "base_uri": "https://localhost:8080/"
        },
        "id": "LOZHIjYl9mmU",
        "outputId": "e9e83e8f-a7b8-4444-a455-3f3e556a4170"
      },
      "execution_count": 96,
      "outputs": [
        {
          "output_type": "stream",
          "name": "stdout",
          "text": [
            "[4, 8, 16, 32, 64, 128, 256, 512, 1024]\n"
          ]
        }
      ]
    },
    {
      "cell_type": "code",
      "source": [
        "def model_building(hp):\n",
        "  model_dnn = Sequential()\n",
        "  model_dnn.add(Dense(units = hp.Int('units',\n",
        "                                     min_value=32,\n",
        "                                     max_value =1024,\n",
        "                                     step =128),input_dim = INPUT_DIM,activation='relu'))\n",
        "  model_dnn.add(Dense(1,activation = 'sigmoid'))\n",
        "  model_dnn.compile(optimizer='adam', loss='binary_crossentropy', metrics=['accuracy'])\n",
        "  return model_dnn"
      ],
      "metadata": {
        "id": "LJeURxXiyhVP"
      },
      "execution_count": 102,
      "outputs": []
    },
    {
      "cell_type": "code",
      "source": [
        "# ! mkdir mydir"
      ],
      "metadata": {
        "id": "cZBEJWXW-rWo"
      },
      "execution_count": 99,
      "outputs": []
    },
    {
      "cell_type": "code",
      "source": [
        "tuner = RandomSearch(model_building,\n",
        "                     objective = 'accuracy',\n",
        "                     max_trials = 5,\n",
        "                     executions_per_trial = 3,\n",
        "                     directory = 'mydir',\n",
        "                     project_name = 'dnn_model')"
      ],
      "metadata": {
        "id": "z6QeezXw8a7c"
      },
      "execution_count": 121,
      "outputs": []
    },
    {
      "cell_type": "code",
      "source": [
        "tuner.search_space_summary()"
      ],
      "metadata": {
        "colab": {
          "base_uri": "https://localhost:8080/"
        },
        "id": "sYKUgSE-8iYC",
        "outputId": "620fff7f-8c9a-423c-a94d-ee34b58200ea"
      },
      "execution_count": 107,
      "outputs": [
        {
          "output_type": "stream",
          "name": "stdout",
          "text": [
            "Search space summary\n",
            "Default search space size: 1\n",
            "units (Int)\n",
            "{'default': None, 'conditions': [], 'min_value': 32, 'max_value': 1024, 'step': 128, 'sampling': 'linear'}\n"
          ]
        }
      ]
    },
    {
      "cell_type": "code",
      "source": [
        "tuner.search(X_train,y_train,epochs=5)"
      ],
      "metadata": {
        "colab": {
          "base_uri": "https://localhost:8080/"
        },
        "id": "CsWvIq948iad",
        "outputId": "7ad24bcb-00bd-4e36-fb6b-c90b3ad044c8"
      },
      "execution_count": 108,
      "outputs": [
        {
          "output_type": "stream",
          "name": "stdout",
          "text": [
            "Trial 5 Complete [00h 00m 06s]\n",
            "accuracy: 1.0\n",
            "\n",
            "Best accuracy So Far: 1.0\n",
            "Total elapsed time: 00h 00m 17s\n"
          ]
        }
      ]
    },
    {
      "cell_type": "code",
      "source": [
        "tuner.results_summary()"
      ],
      "metadata": {
        "id": "avmOoTst8ic7"
      },
      "execution_count": null,
      "outputs": []
    },
    {
      "cell_type": "code",
      "source": [
        "best_hp = tuner.get_best_hyperparameters"
      ],
      "metadata": {
        "id": "sctpHi1-8igX"
      },
      "execution_count": null,
      "outputs": []
    },
    {
      "cell_type": "code",
      "source": [
        "best_hp = tuner.get_best_hyperparameters(1)[0]"
      ],
      "metadata": {
        "id": "MR6_UOets0ti"
      },
      "execution_count": 113,
      "outputs": []
    },
    {
      "cell_type": "code",
      "source": [
        "model_hp = tuner.hypermodel.build(best_hp)"
      ],
      "metadata": {
        "id": "ey28HUsfs0wJ"
      },
      "execution_count": 114,
      "outputs": []
    },
    {
      "cell_type": "code",
      "source": [
        "model_hp_history = model_hp.fit(X_train, y_train, epochs=100, batch_size=32)\n",
        "\n",
        "# Evaluate the final model on the test set\n",
        "test_loss, test_accuracy = model_hp.evaluate(X_test, y_test)\n"
      ],
      "metadata": {
        "colab": {
          "base_uri": "https://localhost:8080/"
        },
        "id": "KkK84uf_AlOU",
        "outputId": "fc8a04b2-0782-4ccd-f190-497a8da5df8f"
      },
      "execution_count": 118,
      "outputs": [
        {
          "output_type": "stream",
          "name": "stdout",
          "text": [
            "Epoch 1/100\n",
            "14/14 [==============================] - 0s 4ms/step - loss: 1.8513e-04 - accuracy: 1.0000\n",
            "Epoch 2/100\n",
            "14/14 [==============================] - 0s 3ms/step - loss: 1.8165e-04 - accuracy: 1.0000\n",
            "Epoch 3/100\n",
            "14/14 [==============================] - 0s 4ms/step - loss: 1.7775e-04 - accuracy: 1.0000\n",
            "Epoch 4/100\n",
            "14/14 [==============================] - 0s 3ms/step - loss: 1.7493e-04 - accuracy: 1.0000\n",
            "Epoch 5/100\n",
            "14/14 [==============================] - 0s 3ms/step - loss: 1.7132e-04 - accuracy: 1.0000\n",
            "Epoch 6/100\n",
            "14/14 [==============================] - 0s 3ms/step - loss: 1.6798e-04 - accuracy: 1.0000\n",
            "Epoch 7/100\n",
            "14/14 [==============================] - 0s 3ms/step - loss: 1.6466e-04 - accuracy: 1.0000\n",
            "Epoch 8/100\n",
            "14/14 [==============================] - 0s 3ms/step - loss: 1.6153e-04 - accuracy: 1.0000\n",
            "Epoch 9/100\n",
            "14/14 [==============================] - 0s 3ms/step - loss: 1.5855e-04 - accuracy: 1.0000\n",
            "Epoch 10/100\n",
            "14/14 [==============================] - 0s 3ms/step - loss: 1.5574e-04 - accuracy: 1.0000\n",
            "Epoch 11/100\n",
            "14/14 [==============================] - 0s 3ms/step - loss: 1.5273e-04 - accuracy: 1.0000\n",
            "Epoch 12/100\n",
            "14/14 [==============================] - 0s 3ms/step - loss: 1.5004e-04 - accuracy: 1.0000\n",
            "Epoch 13/100\n",
            "14/14 [==============================] - 0s 3ms/step - loss: 1.4723e-04 - accuracy: 1.0000\n",
            "Epoch 14/100\n",
            "14/14 [==============================] - 0s 3ms/step - loss: 1.4434e-04 - accuracy: 1.0000\n",
            "Epoch 15/100\n",
            "14/14 [==============================] - 0s 3ms/step - loss: 1.4169e-04 - accuracy: 1.0000\n",
            "Epoch 16/100\n",
            "14/14 [==============================] - 0s 3ms/step - loss: 1.3912e-04 - accuracy: 1.0000\n",
            "Epoch 17/100\n",
            "14/14 [==============================] - 0s 4ms/step - loss: 1.3656e-04 - accuracy: 1.0000\n",
            "Epoch 18/100\n",
            "14/14 [==============================] - 0s 4ms/step - loss: 1.3459e-04 - accuracy: 1.0000\n",
            "Epoch 19/100\n",
            "14/14 [==============================] - 0s 3ms/step - loss: 1.3169e-04 - accuracy: 1.0000\n",
            "Epoch 20/100\n",
            "14/14 [==============================] - 0s 4ms/step - loss: 1.2949e-04 - accuracy: 1.0000\n",
            "Epoch 21/100\n",
            "14/14 [==============================] - 0s 3ms/step - loss: 1.2718e-04 - accuracy: 1.0000\n",
            "Epoch 22/100\n",
            "14/14 [==============================] - 0s 3ms/step - loss: 1.2499e-04 - accuracy: 1.0000\n",
            "Epoch 23/100\n",
            "14/14 [==============================] - 0s 3ms/step - loss: 1.2292e-04 - accuracy: 1.0000\n",
            "Epoch 24/100\n",
            "14/14 [==============================] - 0s 3ms/step - loss: 1.2095e-04 - accuracy: 1.0000\n",
            "Epoch 25/100\n",
            "14/14 [==============================] - 0s 3ms/step - loss: 1.1871e-04 - accuracy: 1.0000\n",
            "Epoch 26/100\n",
            "14/14 [==============================] - 0s 3ms/step - loss: 1.1681e-04 - accuracy: 1.0000\n",
            "Epoch 27/100\n",
            "14/14 [==============================] - 0s 3ms/step - loss: 1.1471e-04 - accuracy: 1.0000\n",
            "Epoch 28/100\n",
            "14/14 [==============================] - 0s 4ms/step - loss: 1.1295e-04 - accuracy: 1.0000\n",
            "Epoch 29/100\n",
            "14/14 [==============================] - 0s 3ms/step - loss: 1.1105e-04 - accuracy: 1.0000\n",
            "Epoch 30/100\n",
            "14/14 [==============================] - 0s 3ms/step - loss: 1.0925e-04 - accuracy: 1.0000\n",
            "Epoch 31/100\n",
            "14/14 [==============================] - 0s 4ms/step - loss: 1.0748e-04 - accuracy: 1.0000\n",
            "Epoch 32/100\n",
            "14/14 [==============================] - 0s 3ms/step - loss: 1.0571e-04 - accuracy: 1.0000\n",
            "Epoch 33/100\n",
            "14/14 [==============================] - 0s 3ms/step - loss: 1.0396e-04 - accuracy: 1.0000\n",
            "Epoch 34/100\n",
            "14/14 [==============================] - 0s 3ms/step - loss: 1.0229e-04 - accuracy: 1.0000\n",
            "Epoch 35/100\n",
            "14/14 [==============================] - 0s 3ms/step - loss: 1.0084e-04 - accuracy: 1.0000\n",
            "Epoch 36/100\n",
            "14/14 [==============================] - 0s 3ms/step - loss: 9.9088e-05 - accuracy: 1.0000\n",
            "Epoch 37/100\n",
            "14/14 [==============================] - 0s 3ms/step - loss: 9.7464e-05 - accuracy: 1.0000\n",
            "Epoch 38/100\n",
            "14/14 [==============================] - 0s 3ms/step - loss: 9.6084e-05 - accuracy: 1.0000\n",
            "Epoch 39/100\n",
            "14/14 [==============================] - 0s 4ms/step - loss: 9.4396e-05 - accuracy: 1.0000\n",
            "Epoch 40/100\n",
            "14/14 [==============================] - 0s 3ms/step - loss: 9.3047e-05 - accuracy: 1.0000\n",
            "Epoch 41/100\n",
            "14/14 [==============================] - 0s 3ms/step - loss: 9.1802e-05 - accuracy: 1.0000\n",
            "Epoch 42/100\n",
            "14/14 [==============================] - 0s 3ms/step - loss: 9.0326e-05 - accuracy: 1.0000\n",
            "Epoch 43/100\n",
            "14/14 [==============================] - 0s 3ms/step - loss: 8.8847e-05 - accuracy: 1.0000\n",
            "Epoch 44/100\n",
            "14/14 [==============================] - 0s 3ms/step - loss: 8.7503e-05 - accuracy: 1.0000\n",
            "Epoch 45/100\n",
            "14/14 [==============================] - 0s 3ms/step - loss: 8.6197e-05 - accuracy: 1.0000\n",
            "Epoch 46/100\n",
            "14/14 [==============================] - 0s 3ms/step - loss: 8.5318e-05 - accuracy: 1.0000\n",
            "Epoch 47/100\n",
            "14/14 [==============================] - 0s 3ms/step - loss: 8.3681e-05 - accuracy: 1.0000\n",
            "Epoch 48/100\n",
            "14/14 [==============================] - 0s 3ms/step - loss: 8.2368e-05 - accuracy: 1.0000\n",
            "Epoch 49/100\n",
            "14/14 [==============================] - 0s 3ms/step - loss: 8.1206e-05 - accuracy: 1.0000\n",
            "Epoch 50/100\n",
            "14/14 [==============================] - 0s 3ms/step - loss: 8.0044e-05 - accuracy: 1.0000\n",
            "Epoch 51/100\n",
            "14/14 [==============================] - 0s 3ms/step - loss: 7.8902e-05 - accuracy: 1.0000\n",
            "Epoch 52/100\n",
            "14/14 [==============================] - 0s 3ms/step - loss: 7.7779e-05 - accuracy: 1.0000\n",
            "Epoch 53/100\n",
            "14/14 [==============================] - 0s 3ms/step - loss: 7.6632e-05 - accuracy: 1.0000\n",
            "Epoch 54/100\n",
            "14/14 [==============================] - 0s 3ms/step - loss: 7.5525e-05 - accuracy: 1.0000\n",
            "Epoch 55/100\n",
            "14/14 [==============================] - 0s 3ms/step - loss: 7.4376e-05 - accuracy: 1.0000\n",
            "Epoch 56/100\n",
            "14/14 [==============================] - 0s 3ms/step - loss: 7.3368e-05 - accuracy: 1.0000\n",
            "Epoch 57/100\n",
            "14/14 [==============================] - 0s 3ms/step - loss: 7.2275e-05 - accuracy: 1.0000\n",
            "Epoch 58/100\n",
            "14/14 [==============================] - 0s 4ms/step - loss: 7.1206e-05 - accuracy: 1.0000\n",
            "Epoch 59/100\n",
            "14/14 [==============================] - 0s 3ms/step - loss: 7.0206e-05 - accuracy: 1.0000\n",
            "Epoch 60/100\n",
            "14/14 [==============================] - 0s 3ms/step - loss: 6.9322e-05 - accuracy: 1.0000\n",
            "Epoch 61/100\n",
            "14/14 [==============================] - 0s 3ms/step - loss: 6.8210e-05 - accuracy: 1.0000\n",
            "Epoch 62/100\n",
            "14/14 [==============================] - 0s 4ms/step - loss: 6.7381e-05 - accuracy: 1.0000\n",
            "Epoch 63/100\n",
            "14/14 [==============================] - 0s 3ms/step - loss: 6.6378e-05 - accuracy: 1.0000\n",
            "Epoch 64/100\n",
            "14/14 [==============================] - 0s 4ms/step - loss: 6.5571e-05 - accuracy: 1.0000\n",
            "Epoch 65/100\n",
            "14/14 [==============================] - 0s 3ms/step - loss: 6.4523e-05 - accuracy: 1.0000\n",
            "Epoch 66/100\n",
            "14/14 [==============================] - 0s 3ms/step - loss: 6.3738e-05 - accuracy: 1.0000\n",
            "Epoch 67/100\n",
            "14/14 [==============================] - 0s 3ms/step - loss: 6.2728e-05 - accuracy: 1.0000\n",
            "Epoch 68/100\n",
            "14/14 [==============================] - 0s 4ms/step - loss: 6.1977e-05 - accuracy: 1.0000\n",
            "Epoch 69/100\n",
            "14/14 [==============================] - 0s 3ms/step - loss: 6.1065e-05 - accuracy: 1.0000\n",
            "Epoch 70/100\n",
            "14/14 [==============================] - 0s 3ms/step - loss: 6.0272e-05 - accuracy: 1.0000\n",
            "Epoch 71/100\n",
            "14/14 [==============================] - 0s 3ms/step - loss: 5.9421e-05 - accuracy: 1.0000\n",
            "Epoch 72/100\n",
            "14/14 [==============================] - 0s 3ms/step - loss: 5.8665e-05 - accuracy: 1.0000\n",
            "Epoch 73/100\n",
            "14/14 [==============================] - 0s 4ms/step - loss: 5.7914e-05 - accuracy: 1.0000\n",
            "Epoch 74/100\n",
            "14/14 [==============================] - 0s 3ms/step - loss: 5.7156e-05 - accuracy: 1.0000\n",
            "Epoch 75/100\n",
            "14/14 [==============================] - 0s 3ms/step - loss: 5.6380e-05 - accuracy: 1.0000\n",
            "Epoch 76/100\n",
            "14/14 [==============================] - 0s 4ms/step - loss: 5.5657e-05 - accuracy: 1.0000\n",
            "Epoch 77/100\n",
            "14/14 [==============================] - 0s 3ms/step - loss: 5.4923e-05 - accuracy: 1.0000\n",
            "Epoch 78/100\n",
            "14/14 [==============================] - 0s 3ms/step - loss: 5.4227e-05 - accuracy: 1.0000\n",
            "Epoch 79/100\n",
            "14/14 [==============================] - 0s 4ms/step - loss: 5.3557e-05 - accuracy: 1.0000\n",
            "Epoch 80/100\n",
            "14/14 [==============================] - 0s 3ms/step - loss: 5.2888e-05 - accuracy: 1.0000\n",
            "Epoch 81/100\n",
            "14/14 [==============================] - 0s 3ms/step - loss: 5.2112e-05 - accuracy: 1.0000\n",
            "Epoch 82/100\n",
            "14/14 [==============================] - 0s 3ms/step - loss: 5.1527e-05 - accuracy: 1.0000\n",
            "Epoch 83/100\n",
            "14/14 [==============================] - 0s 4ms/step - loss: 5.0798e-05 - accuracy: 1.0000\n",
            "Epoch 84/100\n",
            "14/14 [==============================] - 0s 3ms/step - loss: 5.0132e-05 - accuracy: 1.0000\n",
            "Epoch 85/100\n",
            "14/14 [==============================] - 0s 3ms/step - loss: 4.9556e-05 - accuracy: 1.0000\n",
            "Epoch 86/100\n",
            "14/14 [==============================] - 0s 3ms/step - loss: 4.8897e-05 - accuracy: 1.0000\n",
            "Epoch 87/100\n",
            "14/14 [==============================] - 0s 3ms/step - loss: 4.8323e-05 - accuracy: 1.0000\n",
            "Epoch 88/100\n",
            "14/14 [==============================] - 0s 3ms/step - loss: 4.7664e-05 - accuracy: 1.0000\n",
            "Epoch 89/100\n",
            "14/14 [==============================] - 0s 3ms/step - loss: 4.7080e-05 - accuracy: 1.0000\n",
            "Epoch 90/100\n",
            "14/14 [==============================] - 0s 3ms/step - loss: 4.6495e-05 - accuracy: 1.0000\n",
            "Epoch 91/100\n",
            "14/14 [==============================] - 0s 3ms/step - loss: 4.5874e-05 - accuracy: 1.0000\n",
            "Epoch 92/100\n",
            "14/14 [==============================] - 0s 3ms/step - loss: 4.5357e-05 - accuracy: 1.0000\n",
            "Epoch 93/100\n",
            "14/14 [==============================] - 0s 3ms/step - loss: 4.4749e-05 - accuracy: 1.0000\n",
            "Epoch 94/100\n",
            "14/14 [==============================] - 0s 3ms/step - loss: 4.4240e-05 - accuracy: 1.0000\n",
            "Epoch 95/100\n",
            "14/14 [==============================] - 0s 3ms/step - loss: 4.3667e-05 - accuracy: 1.0000\n",
            "Epoch 96/100\n",
            "14/14 [==============================] - 0s 3ms/step - loss: 4.3124e-05 - accuracy: 1.0000\n",
            "Epoch 97/100\n",
            "14/14 [==============================] - 0s 3ms/step - loss: 4.2551e-05 - accuracy: 1.0000\n",
            "Epoch 98/100\n",
            "14/14 [==============================] - 0s 4ms/step - loss: 4.2060e-05 - accuracy: 1.0000\n",
            "Epoch 99/100\n",
            "14/14 [==============================] - 0s 3ms/step - loss: 4.1545e-05 - accuracy: 1.0000\n",
            "Epoch 100/100\n",
            "14/14 [==============================] - 0s 6ms/step - loss: 4.1067e-05 - accuracy: 1.0000\n",
            "5/5 [==============================] - 0s 4ms/step - loss: 0.5022 - accuracy: 0.8357\n"
          ]
        }
      ]
    },
    {
      "cell_type": "code",
      "source": [
        "print(\"Test accuracy:\", test_accuracy)"
      ],
      "metadata": {
        "colab": {
          "base_uri": "https://localhost:8080/"
        },
        "id": "ED__6tv9BDyv",
        "outputId": "1550f68a-920b-4a9e-d6a4-d66273eaa4c3"
      },
      "execution_count": 117,
      "outputs": [
        {
          "output_type": "stream",
          "name": "stdout",
          "text": [
            "Test accuracy: 0.8357142806053162\n"
          ]
        }
      ]
    },
    {
      "cell_type": "code",
      "source": [
        "accuracy(model_hp_history)"
      ],
      "metadata": {
        "colab": {
          "base_uri": "https://localhost:8080/",
          "height": 700
        },
        "id": "KOx61OLLBD1o",
        "outputId": "36604593-9b12-4d9a-87ed-c600abf96c57"
      },
      "execution_count": 119,
      "outputs": [
        {
          "output_type": "error",
          "ename": "KeyError",
          "evalue": "ignored",
          "traceback": [
            "\u001b[0;31m---------------------------------------------------------------------------\u001b[0m",
            "\u001b[0;31mKeyError\u001b[0m                                  Traceback (most recent call last)",
            "\u001b[0;32m<ipython-input-119-58237367b129>\u001b[0m in \u001b[0;36m<cell line: 1>\u001b[0;34m()\u001b[0m\n\u001b[0;32m----> 1\u001b[0;31m \u001b[0maccuracy\u001b[0m\u001b[0;34m(\u001b[0m\u001b[0mmodel_hp_history\u001b[0m\u001b[0;34m)\u001b[0m\u001b[0;34m\u001b[0m\u001b[0;34m\u001b[0m\u001b[0m\n\u001b[0m",
            "\u001b[0;32m<ipython-input-80-d974b2f2e400>\u001b[0m in \u001b[0;36maccuracy\u001b[0;34m(model)\u001b[0m\n\u001b[1;32m      2\u001b[0m \u001b[0;32mdef\u001b[0m \u001b[0maccuracy\u001b[0m\u001b[0;34m(\u001b[0m\u001b[0mmodel\u001b[0m\u001b[0;34m)\u001b[0m\u001b[0;34m:\u001b[0m\u001b[0;34m\u001b[0m\u001b[0;34m\u001b[0m\u001b[0m\n\u001b[1;32m      3\u001b[0m   \u001b[0mplt\u001b[0m\u001b[0;34m.\u001b[0m\u001b[0mplot\u001b[0m\u001b[0;34m(\u001b[0m\u001b[0mmodel\u001b[0m\u001b[0;34m.\u001b[0m\u001b[0mhistory\u001b[0m\u001b[0;34m[\u001b[0m\u001b[0;34m'accuracy'\u001b[0m\u001b[0;34m]\u001b[0m\u001b[0;34m)\u001b[0m\u001b[0;34m\u001b[0m\u001b[0;34m\u001b[0m\u001b[0m\n\u001b[0;32m----> 4\u001b[0;31m   \u001b[0mplt\u001b[0m\u001b[0;34m.\u001b[0m\u001b[0mplot\u001b[0m\u001b[0;34m(\u001b[0m\u001b[0mmodel\u001b[0m\u001b[0;34m.\u001b[0m\u001b[0mhistory\u001b[0m\u001b[0;34m[\u001b[0m\u001b[0;34m'val_accuracy'\u001b[0m\u001b[0;34m]\u001b[0m\u001b[0;34m)\u001b[0m\u001b[0;34m\u001b[0m\u001b[0;34m\u001b[0m\u001b[0m\n\u001b[0m\u001b[1;32m      5\u001b[0m   \u001b[0mplt\u001b[0m\u001b[0;34m.\u001b[0m\u001b[0mtitle\u001b[0m\u001b[0;34m(\u001b[0m\u001b[0;34mf\"{model}  Accuracy \"\u001b[0m\u001b[0;34m)\u001b[0m\u001b[0;34m\u001b[0m\u001b[0;34m\u001b[0m\u001b[0m\n\u001b[1;32m      6\u001b[0m   \u001b[0mplt\u001b[0m\u001b[0;34m.\u001b[0m\u001b[0mylabel\u001b[0m\u001b[0;34m(\u001b[0m\u001b[0;34m\"Accuracy\"\u001b[0m\u001b[0;34m)\u001b[0m\u001b[0;34m\u001b[0m\u001b[0;34m\u001b[0m\u001b[0m\n",
            "\u001b[0;31mKeyError\u001b[0m: 'val_accuracy'"
          ]
        },
        {
          "output_type": "display_data",
          "data": {
            "text/plain": [
              "<Figure size 640x480 with 1 Axes>"
            ],
            "image/png": "[encoded data removed]"
          },
          "metadata": {}
        }
      ]
    },
    {
      "cell_type": "code",
      "source": [],
      "metadata": {
        "id": "uXiS26uzBD23"
      },
      "execution_count": null,
      "outputs": []
    },
    {
      "cell_type": "code",
      "source": [],
      "metadata": {
        "id": "b9IXCkcMBD7o"
      },
      "execution_count": null,
      "outputs": []
    },
    {
      "cell_type": "code",
      "source": [],
      "metadata": {
        "id": "Kp_HecHnAlkf"
      },
      "execution_count": null,
      "outputs": []
    }
  ]
}